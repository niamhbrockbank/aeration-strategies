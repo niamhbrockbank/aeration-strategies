{
 "cells": [
  {
   "cell_type": "markdown",
   "metadata": {},
   "source": [
    "# Algae Plotting"
   ]
  },
  {
   "cell_type": "markdown",
   "metadata": {},
   "source": [
    "This script plots the CW Bill Young 2016 data to plots using plotly. This includes the blue-green algae, dissolved oxygen, temperature, and oxygen demand."
   ]
  },
  {
   "cell_type": "code",
   "execution_count": null,
   "metadata": {},
   "outputs": [],
   "source": [
    "##Calling the relevant libraries\n",
    "\n",
    "#plotly\n",
    "import plotly.graph_objs as go\n",
    "import plotly.express as px\n",
    "from plotly.subplots import make_subplots\n",
    "\n",
    "#pandas\n",
    "import pandas as pd"
   ]
  },
  {
   "cell_type": "markdown",
   "metadata": {},
   "source": [
    "### Plot Code"
   ]
  },
  {
   "cell_type": "code",
   "execution_count": null,
   "metadata": {
    "scrolled": false
   },
   "outputs": [],
   "source": [
    "#Open the temperature csv file\n",
    "Data = pd.read_csv(\"Algae.csv\")\n",
    "AvData = pd.read_csv(\"AvAlgae.csv\")\n",
    "\n",
    "#Plot the figure\n",
    "fig = make_subplots(rows = 3, cols = 1, vertical_spacing = 0.03,\n",
    "                   specs=[[{}],[{\"rowspan\": 2}], [None]])\n",
    "\n",
    "#Average Data Scatter Graph\n",
    "fig.add_trace(go.Scatter(\n",
    "                x = AvData.date,\n",
    "                y = AvData.AV_RFU,\n",
    "                mode='markers', #No lines\n",
    "                marker_color = \"black\",\n",
    "                marker_size = 3),\n",
    "            row=1, col=1)\n",
    "\n",
    "#Reservoir Data Heatmap\n",
    "fig.add_trace((go.Heatmap(\n",
    "                   z = Data.bga_rfu, #Asign the axes\n",
    "                   x = Data.date,\n",
    "                   y = Data.surf_elev, #CONVERT to metres from feet\n",
    "                   #connectgaps = True, #Formatting from here down\n",
    "                   colorscale = \"RdBu_r\", #r indicates that colorscale is reversed\n",
    "                   colorbar_title = '<i>Blue Green<br> Algae (RFU)</i>',\n",
    "                   zmax= 4.5,\n",
    "                   zmin = 0.5,\n",
    "                   zsmooth = 'best'\n",
    "                    )),\n",
    "              row = 2, col = 1)\n",
    "\n",
    "##Formatting\n",
    "#The same formatting will be used for all of the plots\n",
    "#dtick is distance between ticks use range = [start number, end number] to set range...  \n",
    "#Date-time axis formatting: https://community.plotly.com/t/how-to-make-the-messy-date-ticks-organized/7477/2\n",
    "fig.layout.template = \"simple_white\"\n",
    "fig.update_layout(showlegend = False)\n",
    "\n",
    "#Update Average Scatter Axes\n",
    "fig.update_xaxes(showticklabels = False, ticks = '',\n",
    "                showline = True, linewidth = 1, linecolor = 'black', mirror = True, #Axis Line\n",
    "                range = ['2016-03-19','2016-07-27'],\n",
    "                #fixedrange = True, #Disabling zoom\n",
    "                row = 1, col = 1)\n",
    "\n",
    "fig.update_yaxes(fixedrange = True, showgrid = True,\n",
    "                tickfont = dict(size = 10), tick0 = 0, dtick = 0.5,\n",
    "                title = \"<b>Average<br> BGA (RFU)</b>\", title_standoff = 5, titlefont_size = 11,#Axis Title\n",
    "                row = 1, col = 1)\n",
    "\n",
    "#Update Heatmap Axes\n",
    "fig.update_xaxes(ticks = \"outside\", #dtick = 14, tick0 = '2016-03-19', #Axis Labels\n",
    "                tickfont = dict(size = 10), tickformat = '%e %b',\n",
    "                #title = \"<b>Date (2016)</b>\", title_standoff = 10, titlefont_size = 11, #Axis Title\n",
    "                showline = True, linewidth = 1, linecolor = 'black', mirror = True, #Axis Line\n",
    "                fixedrange = True, #Disabling zoom\n",
    "                row = 2, col = 1) \n",
    "\n",
    "fig.update_yaxes(ticks = \"outside\", tick0 = 70, dtick = 5, #Axis Labels\n",
    "                tickfont = dict(size = 10), \n",
    "                title = \"<b>Elevation (m)</b>\", title_standoff = 5, titlefont_size = 11,#Axis Title\n",
    "                showline = True, linewidth = 1, linecolor = 'black', mirror = True, #Axis Line\n",
    "                range = [19,41], fixedrange = True, #Disabling zoom\n",
    "                row = 2, col = 1)\n",
    "\n",
    "fig.show()"
   ]
  }
 ],
 "metadata": {
  "kernelspec": {
   "display_name": "Python 3",
   "language": "python",
   "name": "python3"
  },
  "language_info": {
   "codemirror_mode": {
    "name": "ipython",
    "version": 3
   },
   "file_extension": ".py",
   "mimetype": "text/x-python",
   "name": "python",
   "nbconvert_exporter": "python",
   "pygments_lexer": "ipython3",
   "version": "3.8.3"
  }
 },
 "nbformat": 4,
 "nbformat_minor": 2
}
